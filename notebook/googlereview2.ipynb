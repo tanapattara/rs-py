{
 "cells": [
  {
   "cell_type": "code",
   "execution_count": 21,
   "metadata": {},
   "outputs": [],
   "source": [
    "from selenium import webdriver\n",
    "from selenium.webdriver.common.by import By\n",
    "from selenium.webdriver import ActionChains\n",
    "from selenium.webdriver.common.keys import Keys\n",
    "\n",
    "from datetime import datetime\n",
    "import bs4\n",
    "import pandas as pd\n",
    "import time\n",
    "import csv\n",
    "\n",
    "with open('data/placelist.csv', newline='', encoding='utf-8') as csvfile:\n",
    "    spamreader = csv.reader(csvfile, delimiter=' ', quotechar=',')\n",
    "    for row in spamreader:      \n",
    "        place_name = row[0].split('|')[0]\n",
    "        place_url = row[0].split('|')[1]\n",
    "\n",
    "        #open chrome\n",
    "        driver = webdriver.Chrome()\n",
    "        driver.get(place_url)\n",
    "\n",
    "        # wait for loadcontent\n",
    "        time.sleep(3.0)\n",
    "\n",
    "        #get review button\n",
    "        review_buttons = driver.find_elements(By.CLASS_NAME, 'HHrUdb')\n",
    "        if len(review_buttons) > 0:\n",
    "            last_element = review_buttons[-1]\n",
    "            ActionChains(driver).click(last_element).perform()\n",
    "            time.sleep(3.0)\n",
    "        else:\n",
    "            print('can\\'t find review button')\n",
    "            continue\n"
   ]
  }
 ],
 "metadata": {
  "kernelspec": {
   "display_name": "Python 3.9.12 ('base')",
   "language": "python",
   "name": "python3"
  },
  "language_info": {
   "codemirror_mode": {
    "name": "ipython",
    "version": 3
   },
   "file_extension": ".py",
   "mimetype": "text/x-python",
   "name": "python",
   "nbconvert_exporter": "python",
   "pygments_lexer": "ipython3",
   "version": "3.9.12"
  },
  "orig_nbformat": 4,
  "vscode": {
   "interpreter": {
    "hash": "3a62931a0e5061bdda779a119b0d28a061030cf6fdfaec99d049d3cc9f5f6a3c"
   }
  }
 },
 "nbformat": 4,
 "nbformat_minor": 2
}
