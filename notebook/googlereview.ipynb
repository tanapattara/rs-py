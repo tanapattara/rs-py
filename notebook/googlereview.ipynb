{
 "cells": [
  {
   "cell_type": "code",
   "execution_count": 231,
   "metadata": {},
   "outputs": [],
   "source": [
    "from selenium import webdriver\n",
    "from selenium.webdriver.common.by import By\n",
    "from selenium.webdriver import ActionChains\n",
    "from selenium.webdriver.common.keys import Keys\n",
    "\n",
    "from datetime import datetime\n",
    "import bs4\n",
    "import pandas as pd\n",
    "import time\n",
    "\n",
    "driver = webdriver.Chrome()\n",
    "driver.get('https://www.google.co.th/maps/place/%E0%B8%9E%E0%B8%B4%E0%B8%9E%E0%B8%B4%E0%B8%98%E0%B8%A0%E0%B8%B1%E0%B8%93%E0%B8%91%E0%B9%8C%E0%B8%AA%E0%B8%B1%E0%B8%95%E0%B8%A7%E0%B9%8C%E0%B8%99%E0%B9%89%E0%B8%B3%E0%B8%88%E0%B8%B1%E0%B8%87%E0%B8%AB%E0%B8%A7%E0%B8%B1%E0%B8%94%E0%B8%AB%E0%B8%99%E0%B8%AD%E0%B8%87%E0%B8%84%E0%B8%B2%E0%B8%A2/@17.8125742,102.7575107,14z/data=!4m7!3m6!1s0x31247cce615c9f5b:0x6c079a02d19f64ee!8m2!3d17.8093347!4d102.7462548!9m1!1b1?hl=th')\n",
    "review_data = pd.DataFrame(columns = ['name', 'score', 'time', 'comment'])\n",
    "\n",
    "time.sleep(5.0)\n",
    "\n",
    "data = driver.page_source\n",
    "soup = bs4.BeautifulSoup(data)\n",
    "all_review_score = soup.find_all('div',{'class':'fontBodySmall'})\n",
    "allcomment = int(all_review_score[0].text.split()[0].replace(',', ''))"
   ]
  },
  {
   "cell_type": "code",
   "execution_count": null,
   "metadata": {},
   "outputs": [],
   "source": [
    "loaded = 0\n",
    "n = 5\n",
    "count = 0\n",
    "while loaded < allcomment:\n",
    "    i = 0\n",
    "    while i < n:\n",
    "        html = driver.find_elements(By.CLASS_NAME,'DxyBCb')\n",
    "        html[0].send_keys(Keys.PAGE_DOWN)\n",
    "        time.sleep(2.0)\n",
    "        i += 1\n",
    "\n",
    "    time.sleep(5.0) \n",
    "    data = driver.page_source\n",
    "    soup = bs4.BeautifulSoup(data)\n",
    "    currentload = soup.find_all('div',{'class':'jftiEf fontBodyMedium'})\n",
    "    \n",
    "    if loaded == len(currentload):\n",
    "        count += 1\n",
    "    \n",
    "    loaded = len(currentload)\n",
    "    print(loaded)\n",
    "\n",
    "    if count == 3:\n",
    "        break\n",
    "    \n",
    "    n *= 2\n"
   ]
  },
  {
   "cell_type": "code",
   "execution_count": 234,
   "metadata": {},
   "outputs": [],
   "source": [
    "def loaddata():\n",
    "    data = driver.page_source\n",
    "    soup = bs4.BeautifulSoup(data)\n",
    "    all_review_score = soup.find_all('div',{'class':'jftiEf fontBodyMedium'})\n",
    "\n",
    "    list_name = []\n",
    "    list_score = []\n",
    "    list_time = []\n",
    "    list_comment = []\n",
    "\n",
    "    for x in all_review_score:    \n",
    "        name = x['aria-label']\n",
    "        profiles = x.findChildren('div',{'class':'DU9Pgb'})\n",
    "        pf = list(profiles)[0]\n",
    "        score = pf.findChildren('span', {'class':'kvMYJc'})[0]\n",
    "        score = score['aria-label'].split()[0]\n",
    "        stime = pf.findChildren('span', {'class':'rsqaWe'})[0]\n",
    "        stime = stime.text    \n",
    "        comment = x.findChildren('span', {'class':'wiI7pd'})\n",
    "        comment = comment[0].text\n",
    "\n",
    "        list_name.append(name)\n",
    "        list_score.append(score)\n",
    "        list_time.append(stime)\n",
    "        list_comment.append(comment)\n",
    "\n",
    "    df = pd.DataFrame([list_name, list_score, list_time, list_comment])\n",
    "    df = df.transpose()\n",
    "    df.columns = ['name', 'score', 'time', 'comment']\n",
    "    return df\n",
    "\n",
    "df = loaddata()\n",
    "    "
   ]
  },
  {
   "cell_type": "code",
   "execution_count": null,
   "metadata": {},
   "outputs": [],
   "source": [
    "df"
   ]
  },
  {
   "cell_type": "code",
   "execution_count": 237,
   "metadata": {},
   "outputs": [],
   "source": [
    "df.to_excel(r'results\\google.xlsx')"
   ]
  }
 ],
 "metadata": {
  "kernelspec": {
   "display_name": "Python 3.9.12 ('base')",
   "language": "python",
   "name": "python3"
  },
  "language_info": {
   "codemirror_mode": {
    "name": "ipython",
    "version": 3
   },
   "file_extension": ".py",
   "mimetype": "text/x-python",
   "name": "python",
   "nbconvert_exporter": "python",
   "pygments_lexer": "ipython3",
   "version": "3.9.12"
  },
  "orig_nbformat": 4,
  "vscode": {
   "interpreter": {
    "hash": "3a62931a0e5061bdda779a119b0d28a061030cf6fdfaec99d049d3cc9f5f6a3c"
   }
  }
 },
 "nbformat": 4,
 "nbformat_minor": 2
}
