{
 "cells": [
  {
   "cell_type": "code",
   "execution_count": null,
   "metadata": {},
   "outputs": [],
   "source": [
    "import pandas as pd\n",
    "\n",
    "ratingsdf = pd.read_csv(\"data/rating_pop.csv\", sep='|')\n",
    "venuedf = pd.read_csv(\"data/venue_metadata.csv\", sep='|')\n",
    "categorydf = pd.read_csv(\"data/categorydf.csv\", sep='|')\n",
    "simdf = pd.read_csv(\"data/simdf.csv\", sep='|')\n",
    "category = categorydf.category.unique()\n",
    "simdf = simdf.sort_values(by=['s'], ascending=False)\n",
    "simdf.head()"
   ]
  }
 ],
 "metadata": {
  "kernelspec": {
   "display_name": "Python 3",
   "language": "python",
   "name": "python3"
  },
  "language_info": {
   "codemirror_mode": {
    "name": "ipython",
    "version": 3
   },
   "file_extension": ".py",
   "mimetype": "text/x-python",
   "name": "python",
   "nbconvert_exporter": "python",
   "pygments_lexer": "ipython3",
   "version": "3.10.8 (v3.10.8:aaaf517424, Oct 11 2022, 10:14:40) [Clang 13.0.0 (clang-1300.0.29.30)]"
  },
  "orig_nbformat": 4,
  "vscode": {
   "interpreter": {
    "hash": "aee8b7b246df8f9039afb4144a1f6fd8d2ca17a180786b69acc140d282b71a49"
   }
  }
 },
 "nbformat": 4,
 "nbformat_minor": 2
}
